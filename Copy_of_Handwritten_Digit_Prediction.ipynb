{
  "nbformat": 4,
  "nbformat_minor": 0,
  "metadata": {
    "colab": {
      "provenance": [],
      "authorship_tag": "ABX9TyPxzX67S99Yp8O79hCVSGrS",
      "include_colab_link": true
    },
    "kernelspec": {
      "name": "python3",
      "display_name": "Python 3"
    },
    "language_info": {
      "name": "python"
    }
  },
  "cells": [
    {
      "cell_type": "markdown",
      "metadata": {
        "id": "view-in-github",
        "colab_type": "text"
      },
      "source": [
        "<a href=\"https://colab.research.google.com/github/vrushabh-myopic/predictor/blob/main/Copy_of_Handwritten_Digit_Prediction.ipynb\" target=\"_parent\"><img src=\"https://colab.research.google.com/assets/colab-badge.svg\" alt=\"Open In Colab\"/></a>"
      ]
    },
    {
      "cell_type": "markdown",
      "source": [
        "**Title Of Project**\n",
        "\n",
        "Handwritten Digit Prediction - Classification Analysis\n",
        "\n",
        "**Objective**\n",
        "The objective of this project is to build a machine learning model that can accurately predict handwritten digits.\n",
        "\n",
        "**Data Source**\n",
        "The dataset used for this project is the \"digits\" dataset from scikit-learn's built-in datasets. It contains images of handwritten digits, where each image is an 8x8 pixel matrix, and the target variable represents the actual digit value (0-9)."
      ],
      "metadata": {
        "id": "G4jlHrqR2hJd"
      }
    },
    {
      "cell_type": "markdown",
      "source": [
        "**Import Library**"
      ],
      "metadata": {
        "id": "6b5XAgfn241U"
      }
    },
    {
      "cell_type": "code",
      "source": [
        "from sklearn.datasets import load_digits\n",
        "import numpy as np\n",
        "import pandas as pd\n",
        "import matplotlib.pyplot as plt\n",
        "from sklearn.model_selection import train_test_split\n",
        "from sklearn.preprocessing import StandardScaler\n",
        "from sklearn.linear_model import LogisticRegression\n",
        "from sklearn.metrics import accuracy_score, confusion_matrix, classification_report"
      ],
      "metadata": {
        "id": "8r5a0BLA2_uT"
      },
      "execution_count": null,
      "outputs": []
    },
    {
      "cell_type": "markdown",
      "source": [
        "**Import Data**"
      ],
      "metadata": {
        "id": "XG0Hy4aq3dl6"
      }
    },
    {
      "cell_type": "code",
      "source": [
        "digits = load_digits()"
      ],
      "metadata": {
        "id": "Jb07375w3lM_"
      },
      "execution_count": null,
      "outputs": []
    },
    {
      "cell_type": "markdown",
      "source": [
        "**Describe Data**"
      ],
      "metadata": {
        "id": "hL9s88a13osp"
      }
    },
    {
      "cell_type": "code",
      "source": [
        "print(digits.DESCR)\n"
      ],
      "metadata": {
        "id": "sGb7_Vo83s95"
      },
      "execution_count": null,
      "outputs": []
    },
    {
      "cell_type": "markdown",
      "source": [
        ".. _digits_dataset:\n",
        "\n",
        "Optical recognition of handwritten digits dataset\n",
        "--------------------------------------------------\n",
        "\n",
        "**Data Set Characteristics:**\n",
        "\n",
        "    :Number of Instances: 1797\n",
        "    :Number of Attributes: 64\n",
        "    :Attribute Information: 8x8 image of integer pixels in the range 0..16.\n",
        "    :Missing Attribute Values: None\n",
        "    :Creator: E. Alpaydin (alpaydin '@' boun.edu.tr)\n",
        "    :Date: July; 1998\n",
        "\n",
        "This is a copy of the test set of the UCI ML hand-written digits datasets\n",
        "https://archive.ics.uci.edu/ml/datasets/Optical+Recognition+of+Handwritten+Digits\n",
        "\n",
        "The data set contains images of hand-written digits: 10 classes where\n",
        "each class refers to a digit.\n",
        "\n",
        "Preprocessing programs made available by NIST were used to extract\n",
        "normalized bitmaps of handwritten digits from a preprinted form. From a\n",
        "total of 43 people, 30 contributed to the training set and different 13\n",
        "to the test set. 32x32 bitmaps are divided into nonoverlapping blocks of\n",
        "4x4 and the number of on pixels are counted in each block. This generates\n",
        "an input matrix of 8x8 where each element is an integer in the range\n",
        "0..16. This reduces dimensionality and gives invariance to small\n",
        "distortions.\n",
        "For info on NIST preprocessing routines, see M. D. Garris, J. L. Blue, G.\n",
        "T. Candela, D. L. Dimmick, J. Geist, P. J. Grother, S. A. Janet, and C.\n",
        "L. Wilson, NIST Form-Based Handprint Recognition System, NISTIR 5469,\n",
        "1994.\n",
        "\n",
        ".. topic:: References\n",
        "\n",
        "  - C. Kaynak (1995) Methods of Combining Multiple Classifiers and Their\n",
        "    Applications to Handwritten Digit Recognition, MSc Thesis, Institute of\n",
        "    Graduate Studies in Science and Engineering, Bogazici University.\n",
        "  - E. Alpaydin, C. Kaynak (1998) Cascading Classifiers, Kybernetika.\n",
        "  - Ken Tang and Ponnuthurai N. Suganthan and Xi Yao and A. Kai Qin.\n",
        "    Linear dimensionalityreduction using relevance weighted LDA. School of\n",
        "    Electrical and Electronic Engineering Nanyang Technological University.\n",
        "    2005.\n",
        "  - Claudio Gentile. A New Approximate Maximal Margin Classification\n",
        "    Algorithm. NIPS. 2000.\n"
      ],
      "metadata": {
        "id": "qg8wfzPj3w7r"
      }
    },
    {
      "cell_type": "markdown",
      "source": [
        "**Data Visualization**"
      ],
      "metadata": {
        "id": "4a9YA8B23_Wg"
      }
    },
    {
      "cell_type": "code",
      "source": [
        "plt.figure(figsize=(8, 8))\n",
        "for i in range(10):\n",
        "    plt.subplot(2, 5, i + 1)\n",
        "    plt.imshow(digits.images[i], cmap='gray')\n",
        "    plt.title(f\"Label: {digits.target[i]}\")\n",
        "    plt.axis('off')\n",
        "plt.show()\n"
      ],
      "metadata": {
        "id": "w03QkVXQ4H9K"
      },
      "execution_count": null,
      "outputs": []
    },
    {
      "cell_type": "markdown",
      "source": [
        "![download.png](data:image/png;base64,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)"
      ],
      "metadata": {
        "id": "n7g_2Q514Lgs"
      }
    },
    {
      "cell_type": "markdown",
      "source": [
        "**Data Preprocessing**"
      ],
      "metadata": {
        "id": "zdluywfI4Y99"
      }
    },
    {
      "cell_type": "code",
      "source": [
        "X = digits.data\n",
        "\n",
        "# Normalize feature variables\n",
        "scaler = StandardScaler()\n",
        "X = scaler.fit_transform(X)\n",
        "\n",
        "# Define the target variable (y)\n",
        "y = digits.target"
      ],
      "metadata": {
        "id": "_ZMikfLH4dU2"
      },
      "execution_count": null,
      "outputs": []
    },
    {
      "cell_type": "markdown",
      "source": [
        "**Train Test Split**"
      ],
      "metadata": {
        "id": "S21SEy3s4iBm"
      }
    },
    {
      "cell_type": "code",
      "source": [
        "X_train, X_test, y_train, y_test = train_test_split(X, y, test_size=0.2, random_state=42)"
      ],
      "metadata": {
        "id": "lnvVlwAW4mmJ"
      },
      "execution_count": null,
      "outputs": []
    },
    {
      "cell_type": "markdown",
      "source": [
        "**Modeling**"
      ],
      "metadata": {
        "id": "nrHhbIQX4qjd"
      }
    },
    {
      "cell_type": "code",
      "source": [
        "model = LogisticRegression()\n",
        "\n",
        "# Train the model on the training data\n",
        "model.fit(X_train, y_train)\n"
      ],
      "metadata": {
        "id": "5lEy9KtL4ufW"
      },
      "execution_count": null,
      "outputs": []
    },
    {
      "cell_type": "markdown",
      "source": [
        "\n",
        "LogisticRegression()\n",
        "In a Jupyter environment, please rerun this cell to show the HTML representation or trust the notebook.\n",
        "On GitHub, the HTML representation is unable to render, please try loading this page with nbviewer.org.\n"
      ],
      "metadata": {
        "id": "uQT12P1t4y7P"
      }
    },
    {
      "cell_type": "markdown",
      "source": [
        "**Model Evaluation**"
      ],
      "metadata": {
        "id": "CCwxcMoa42BW"
      }
    },
    {
      "cell_type": "code",
      "source": [
        "y_pred = model.predict(X_test)\n",
        "\n",
        "# Evaluate the model's accuracy\n",
        "accuracy = accuracy_score(y_test, y_pred)\n",
        "print(\"Accuracy:\", accuracy)\n",
        "\n",
        "# Generate confusion matrix and classification report\n",
        "conf_matrix = confusion_matrix(y_test, y_pred)\n",
        "class_report = classification_report(y_test, y_pred)\n",
        "print(\"Confusion Matrix:\")\n",
        "print(conf_matrix)\n",
        "print(\"Classification Report:\")\n",
        "print(class_report)"
      ],
      "metadata": {
        "id": "uqOPEITv46I-"
      },
      "execution_count": null,
      "outputs": []
    },
    {
      "cell_type": "markdown",
      "source": [
        "\n",
        "Accuracy: 0.9722222222222222\n",
        "Confusion Matrix:\n",
        "[[33  0  0  0  0  0  0  0  0  0]\n",
        " [ 0 28  0  0  0  0  0  0  0  0]\n",
        " [ 0  0 33  0  0  0  0  0  0  0]\n",
        " [ 0  0  0 33  0  1  0  0  0  0]\n",
        " [ 0  1  0  0 45  0  0  0  0  0]\n",
        " [ 0  0  0  0  0 44  1  0  0  2]\n",
        " [ 0  0  0  0  0  1 34  0  0  0]\n",
        " [ 0  0  0  0  0  0  0 33  0  1]\n",
        " [ 0  0  0  0  0  1  0  0 29  0]\n",
        " [ 0  0  0  1  0  0  0  0  1 38]]\n",
        "Classification Report:\n",
        "              precision    recall  f1-score   support\n",
        "\n",
        "           0       1.00      1.00      1.00        33\n",
        "           1       0.97      1.00      0.98        28\n",
        "           2       1.00      1.00      1.00        33\n",
        "           3       0.97      0.97      0.97        34\n",
        "           4       1.00      0.98      0.99        46\n",
        "           5       0.94      0.94      0.94        47\n",
        "           6       0.97      0.97      0.97        35\n",
        "           7       1.00      0.97      0.99        34\n",
        "           8       0.97      0.97      0.97        30\n",
        "           9       0.93      0.95      0.94        40\n",
        "\n",
        "    accuracy                           0.97       360\n",
        "   macro avg       0.97      0.97      0.97       360\n",
        "weighted avg       0.97      0.97      0.97       360\n"
      ],
      "metadata": {
        "id": "QDQNbaSY4-Id"
      }
    },
    {
      "cell_type": "markdown",
      "source": [
        "**Prediction**"
      ],
      "metadata": {
        "id": "OAIiFWlS5CZs"
      }
    },
    {
      "cell_type": "code",
      "source": [
        "from PIL import Image\n",
        "\n",
        "# Load the image and convert it to grayscale\n",
        "image = Image.open('download.png').convert('L')\n",
        "\n",
        "# Resize the image to 8x8 pixels (the same size as the dataset images)\n",
        "image = image.resize((8, 8))\n",
        "\n",
        "# Convert the image to a numpy array\n",
        "new_image = np.array(image)\n",
        "\n",
        "# Flatten the 8x8 image into a 1D array for prediction\n",
        "new_image_flattened = new_image.flatten().reshape(1, -1)\n",
        "\n",
        "# Scale the feature variables using the previously defined scaler\n",
        "new_image_scaled = scaler.transform(new_image_flattened)\n",
        "\n",
        "# Make a prediction using the model\n",
        "predicted_digit = model.predict(new_image_scaled)\n",
        "\n",
        "print(\"Predicted Digit:\", predicted_digit[0])"
      ],
      "metadata": {
        "id": "xVnan79z5FlK"
      },
      "execution_count": null,
      "outputs": []
    },
    {
      "cell_type": "markdown",
      "source": [
        "Predicted Digit :4"
      ],
      "metadata": {
        "id": "QKsh_7Kf5M6k"
      }
    }
  ]
}